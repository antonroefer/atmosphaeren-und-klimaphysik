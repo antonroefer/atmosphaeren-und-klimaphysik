{
 "cells": [
  {
   "cell_type": "code",
   "execution_count": 2,
   "id": "231377ab",
   "metadata": {},
   "outputs": [
    {
     "name": "stdout",
     "output_type": "stream",
     "text": [
      "Meeresspiegel Anstieg: 71.64 m\n"
     ]
    }
   ],
   "source": [
    "import rasterio\n",
    "import numpy as np\n",
    "\n",
    "# Pfad zum DEM/Bathymetrie-Raster\n",
    "dem_path = \"./../data/external/GEBCO/merged.tif\"\n",
    "\n",
    "# Volumen des Eises in m³\n",
    "ice_volume = 29.4e15\n",
    "\n",
    "# Dichtekorrektur von Eis zu Wasser (Volumenänderung)\n",
    "ice_to_water_ratio = 918 / 997\n",
    "\n",
    "# Erdradius und Pixelgröße\n",
    "pixel_size_deg = 15 / 3600\n",
    "earth_radius = 6371000  # Meter\n",
    "\n",
    "with rasterio.open(dem_path) as src:\n",
    "    transform = src.transform\n",
    "    width = src.width\n",
    "    height = src.height\n",
    "\n",
    "    # Breitengrade der Zeilen\n",
    "    latitudes = transform.f + np.arange(height) * transform.e\n",
    "\n",
    "    # Zellfläche pro Zeile berechnen (m²)\n",
    "    row_areas = (\n",
    "        (np.pi / 180)\n",
    "        * earth_radius**2\n",
    "        * pixel_size_deg\n",
    "        * np.abs(\n",
    "            np.sin(np.radians(latitudes + pixel_size_deg))\n",
    "            - np.sin(np.radians(latitudes))\n",
    "        )\n",
    "    )\n",
    "\n",
    "    # Initiales Wasservolumen berechnen (nur Zellen ≤ 0)\n",
    "    initial_water_volume = 0.0\n",
    "\n",
    "    for row in range(height):\n",
    "        bathy_row = src.read(1, window=((row, row + 1), (0, width)))[0]  # Zeile lesen\n",
    "        water_mask = bathy_row <= 0\n",
    "        initial_water_volume += np.sum(-bathy_row[water_mask] * row_areas[row])\n",
    "\n",
    "    # Zielvolumen berechnen\n",
    "    target_volume = initial_water_volume + ice_volume * ice_to_water_ratio\n",
    "\n",
    "    # Funktion für Wasservolumen bei Meeresspiegel X\n",
    "    def water_volume_at_level(level):\n",
    "        volume = 0.0\n",
    "        for row in range(height):\n",
    "            bathy_row = src.read(1, window=((row, row + 1), (0, width)))[0]\n",
    "            flooded_mask = bathy_row < level\n",
    "            volume += np.sum((level - bathy_row[flooded_mask]) * row_areas[row])\n",
    "        return volume\n",
    "\n",
    "    # Adaptive Suche\n",
    "    steps = [10, 1, 0.1, 0.01]\n",
    "    level = 71.63 # just for the image export, should be 0.0, calculation takes a lot of time otherwise\n",
    "\n",
    "    for step in steps:\n",
    "        while True:\n",
    "            new_volume = water_volume_at_level(level)\n",
    "            if new_volume >= target_volume:\n",
    "                level -= step\n",
    "                break\n",
    "            level += step\n",
    "\n",
    "print(f\"Meeresspiegel Anstieg: {level:.2f} m\")\n"
   ]
  },
  {
   "cell_type": "code",
   "execution_count": 3,
   "id": "bb6f2a04",
   "metadata": {},
   "outputs": [
    {
     "name": "stdout",
     "output_type": "stream",
     "text": [
      "Volumen zwischen 0 und -1000m: 1.27e+16 m³\n"
     ]
    }
   ],
   "source": [
    "# Funktion für Wasservolumen zwischen zwei Ebenen\n",
    "def water_volume_between_levels(lower_level, upper_level):\n",
    "    volume = 0.0\n",
    "    with rasterio.open(dem_path) as src:\n",
    "        for row in range(height):\n",
    "            bathy_row = src.read(1, window=((row, row + 1), (0, width)))[0]\n",
    "            mask = (bathy_row <= lower_level) & (bathy_row > upper_level)\n",
    "            volume += np.sum((lower_level - bathy_row[mask]) * row_areas[row])\n",
    "    return volume\n",
    "\n",
    "\n",
    "# Berechnung des Volumens zwischen 0 und -1000m\n",
    "volume_0_to_minus_1000 = water_volume_between_levels(0, -1000)\n",
    "print(f\"Volumen zwischen 0 und -1000m: {volume_0_to_minus_1000:.2e} m³\")\n"
   ]
  }
 ],
 "metadata": {
  "kernelspec": {
   "display_name": "Python 3",
   "language": "python",
   "name": "python3"
  },
  "language_info": {
   "codemirror_mode": {
    "name": "ipython",
    "version": 3
   },
   "file_extension": ".py",
   "mimetype": "text/x-python",
   "name": "python",
   "nbconvert_exporter": "python",
   "pygments_lexer": "ipython3",
   "version": "3.12.4"
  }
 },
 "nbformat": 4,
 "nbformat_minor": 5
}
